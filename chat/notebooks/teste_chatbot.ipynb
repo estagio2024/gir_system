{
 "cells": [
  {
   "cell_type": "code",
   "execution_count": 13,
   "metadata": {},
   "outputs": [
    {
     "name": "stdout",
     "output_type": "stream",
     "text": [
      "Caminho do banco de dados: /home/devgir/gir_system/chat/data/base_conhecimento.db\n"
     ]
    },
    {
     "ename": "OperationalError",
     "evalue": "unable to open database file",
     "output_type": "error",
     "traceback": [
      "\u001b[0;31m---------------------------------------------------------------------------\u001b[0m",
      "\u001b[0;31mOperationalError\u001b[0m                          Traceback (most recent call last)",
      "Cell \u001b[0;32mIn[13], line 13\u001b[0m\n\u001b[1;32m     10\u001b[0m \u001b[38;5;28mprint\u001b[39m(\u001b[38;5;124mf\u001b[39m\u001b[38;5;124m\"\u001b[39m\u001b[38;5;124mCaminho do banco de dados: \u001b[39m\u001b[38;5;132;01m{\u001b[39;00mcaminho_banco\u001b[38;5;132;01m}\u001b[39;00m\u001b[38;5;124m\"\u001b[39m)\n\u001b[1;32m     12\u001b[0m \u001b[38;5;66;03m# Conectar ao banco de dados\u001b[39;00m\n\u001b[0;32m---> 13\u001b[0m con \u001b[38;5;241m=\u001b[39m \u001b[43msqlite3\u001b[49m\u001b[38;5;241;43m.\u001b[39;49m\u001b[43mconnect\u001b[49m\u001b[43m(\u001b[49m\u001b[43mcaminho_banco\u001b[49m\u001b[43m)\u001b[49m\n\u001b[1;32m     15\u001b[0m \u001b[38;5;66;03m# Carregar o modelo BERT\u001b[39;00m\n\u001b[1;32m     16\u001b[0m tokenizer \u001b[38;5;241m=\u001b[39m BertTokenizer\u001b[38;5;241m.\u001b[39mfrom_pretrained(\u001b[38;5;124m'\u001b[39m\u001b[38;5;124mbert-base-uncased\u001b[39m\u001b[38;5;124m'\u001b[39m)\n",
      "\u001b[0;31mOperationalError\u001b[0m: unable to open database file"
     ]
    }
   ],
   "source": [
    "import sqlite3\n",
    "import pandas as pd\n",
    "from transformers import BertTokenizer, BertModel\n",
    "from sklearn.metrics.pairwise import cosine_similarity\n",
    "import torch\n",
    "import os\n",
    "\n",
    "# Caminho absoluto do banco de dados\n",
    "caminho_banco = os.path.abspath('/home/devgir/gir_system/chat/data/base_conhecimento.db')\n",
    "print(f\"Caminho do banco de dados: {caminho_banco}\")\n",
    "\n",
    "# Conectar ao banco de dados\n",
    "con = sqlite3.connect(caminho_banco)\n",
    "\n",
    "# Carregar o modelo BERT\n",
    "tokenizer = BertTokenizer.from_pretrained('bert-base-uncased')\n",
    "model = BertModel.from_pretrained('bert-base-uncased')\n",
    "\n",
    "# Função para carregar a base de conhecimento\n",
    "def carregar_base():\n",
    "    df = pd.read_sql_query(\"SELECT * FROM conhecimento\", con)\n",
    "    return df\n",
    "\n",
    "# Função para gerar embeddings com BERT\n",
    "def gerar_embedding_bert(texto):\n",
    "    tokens = tokenizer(texto, return_tensors='pt', padding=True, truncation=True, max_length=512)\n",
    "    with torch.no_grad():\n",
    "        embeddings = model(**tokens).last_hidden_state.mean(dim=1)\n",
    "    return embeddings\n",
    "\n",
    "# Função para encontrar a resposta com base na pergunta do cliente\n",
    "def encontrar_resposta(pergunta_cliente):\n",
    "    # Carregar base de conhecimento\n",
    "    df = carregar_base()\n",
    "\n",
    "    # Gerar embedding da pergunta do cliente\n",
    "    embedding_cliente = gerar_embedding_bert(pergunta_cliente)\n",
    "\n",
    "    # Gerar embeddings das descrições do banco de dados\n",
    "    embeddings_bd = torch.vstack([gerar_embedding_bert(descricao) for descricao in df['descricao']])\n",
    "\n",
    "    # Calcular similaridade coseno\n",
    "    similaridade = cosine_similarity(embedding_cliente.numpy(), embeddings_bd.numpy())\n",
    "\n",
    "    # Encontrar o índice da descrição mais similar\n",
    "    indice_max = similaridade.argmax()\n",
    "\n",
    "    # Retornar a descrição correspondente\n",
    "    return df.iloc[indice_max]['descricao']\n",
    "\n",
    "# Testar a IA no notebook\n",
    "pergunta_cliente = \"Como posso alterar minha senha?\"\n",
    "resposta = encontrar_resposta(pergunta_cliente)\n",
    "\n",
    "print(f\"Pergunta: {pergunta_cliente}\")\n",
    "print(f\"Resposta: {resposta}\")\n",
    "\n",
    "# Fechar a conexão ao banco de dados ao final\n",
    "con.close()\n"
   ]
  }
 ],
 "metadata": {
  "kernelspec": {
   "display_name": "Python 3",
   "language": "python",
   "name": "python3"
  },
  "language_info": {
   "codemirror_mode": {
    "name": "ipython",
    "version": 3
   },
   "file_extension": ".py",
   "mimetype": "text/x-python",
   "name": "python",
   "nbconvert_exporter": "python",
   "pygments_lexer": "ipython3",
   "version": "3.10.12"
  }
 },
 "nbformat": 4,
 "nbformat_minor": 2
}
